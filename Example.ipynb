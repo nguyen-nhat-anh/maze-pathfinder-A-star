{
 "cells": [
  {
   "cell_type": "code",
   "execution_count": 1,
   "metadata": {},
   "outputs": [],
   "source": [
    "from mazelib import Maze\n",
    "from mazelib.generate.Prims import Prims\n",
    "\n",
    "from a_star import Astar\n",
    "from utils import show, manhattan_distance"
   ]
  },
  {
   "cell_type": "code",
   "execution_count": 2,
   "metadata": {},
   "outputs": [],
   "source": [
    "m = Maze()\n",
    "m.prune = False\n",
    "m.generator = Prims(3, 3)\n",
    "m.generate()\n",
    "m.generate_entrances()"
   ]
  },
  {
   "cell_type": "code",
   "execution_count": 3,
   "metadata": {},
   "outputs": [
    {
     "data": {
      "image/png": "[encoded data removed]",
      "text/plain": [
       "<Figure size 720x360 with 1 Axes>"
      ]
     },
     "metadata": {
      "needs_background": "light"
     },
     "output_type": "display_data"
    }
   ],
   "source": [
    "show(m)"
   ]
  },
  {
   "cell_type": "code",
   "execution_count": 4,
   "metadata": {},
   "outputs": [
    {
     "name": "stdout",
     "output_type": "stream",
     "text": [
      "### Step 0 ###\n",
      "frontier: [(10, (1, 6))]\n",
      "explored: []\n",
      "current: (1, 6)\n",
      "### Step 1 ###\n",
      "frontier: [(10, (1, 5))]\n",
      "explored: [(1, 6)]\n",
      "current: (1, 5)\n",
      "### Step 2 ###\n",
      "frontier: [(10, (2, 5)), (10, (1, 4))]\n",
      "explored: [(1, 6), (1, 5)]\n",
      "current: (2, 5)\n",
      "### Step 3 ###\n",
      "frontier: [(10, (1, 4)), (10, (3, 5))]\n",
      "explored: [(1, 6), (1, 5), (2, 5)]\n",
      "current: (1, 4)\n",
      "### Step 4 ###\n",
      "frontier: [(10, (3, 5)), (10, (1, 3))]\n",
      "explored: [(1, 6), (1, 5), (2, 5), (1, 4)]\n",
      "current: (3, 5)\n",
      "### Step 5 ###\n",
      "frontier: [(10, (1, 3))]\n",
      "explored: [(1, 6), (1, 5), (2, 5), (1, 4), (3, 5)]\n",
      "current: (1, 3)\n",
      "### Step 6 ###\n",
      "frontier: [(10, (2, 3))]\n",
      "explored: [(1, 6), (1, 5), (2, 5), (1, 4), (3, 5), (1, 3)]\n",
      "current: (2, 3)\n",
      "### Step 7 ###\n",
      "frontier: [(10, (3, 3))]\n",
      "explored: [(1, 6), (1, 5), (2, 5), (1, 4), (3, 5), (1, 3), (2, 3)]\n",
      "current: (3, 3)\n",
      "### Step 8 ###\n",
      "frontier: [(10, (3, 2))]\n",
      "explored: [(1, 6), (1, 5), (2, 5), (1, 4), (3, 5), (1, 3), (2, 3), (3, 3)]\n",
      "current: (3, 2)\n",
      "### Step 9 ###\n",
      "frontier: [(10, (3, 1))]\n",
      "explored: [(1, 6), (1, 5), (2, 5), (1, 4), (3, 5), (1, 3), (2, 3), (3, 3), (3, 2)]\n",
      "current: (3, 1)\n",
      "### Step 10 ###\n",
      "frontier: [(10, (4, 1)), (12, (2, 1))]\n",
      "explored: [(1, 6), (1, 5), (2, 5), (1, 4), (3, 5), (1, 3), (2, 3), (3, 3), (3, 2), (3, 1)]\n",
      "current: (4, 1)\n",
      "### Step 11 ###\n",
      "frontier: [(10, (5, 1)), (12, (2, 1))]\n",
      "explored: [(1, 6), (1, 5), (2, 5), (1, 4), (3, 5), (1, 3), (2, 3), (3, 3), (3, 2), (3, 1), (4, 1)]\n",
      "current: (5, 1)\n",
      "### Step 12 ###\n",
      "frontier: [(10, (5, 0)), (12, (5, 2)), (12, (2, 1))]\n",
      "explored: [(1, 6), (1, 5), (2, 5), (1, 4), (3, 5), (1, 3), (2, 3), (3, 3), (3, 2), (3, 1), (4, 1), (5, 1)]\n",
      "current: (5, 0)\n"
     ]
    }
   ],
   "source": [
    "m.solver = Astar(dist=manhattan_distance, verbose=True)\n",
    "m.solve()"
   ]
  },
  {
   "cell_type": "code",
   "execution_count": 5,
   "metadata": {},
   "outputs": [
    {
     "name": "stdout",
     "output_type": "stream",
     "text": [
      "Path found [(1, 5), (1, 4), (1, 3), (2, 3), (3, 3), (3, 2), (3, 1), (4, 1), (5, 1)]\n"
     ]
    },
    {
     "data": {
      "image/png": "[encoded data removed]",
      "text/plain": [
       "<Figure size 720x360 with 1 Axes>"
      ]
     },
     "metadata": {
      "needs_background": "light"
     },
     "output_type": "display_data"
    }
   ],
   "source": [
    "print(f'Path found {m.solutions[0]}')\n",
    "show(m)"
   ]
  }
 ],
 "metadata": {
  "kernelspec": {
   "display_name": "Python 3",
   "language": "python",
   "name": "python3"
  },
  "language_info": {
   "codemirror_mode": {
    "name": "ipython",
    "version": 3
   },
   "file_extension": ".py",
   "mimetype": "text/x-python",
   "name": "python",
   "nbconvert_exporter": "python",
   "pygments_lexer": "ipython3",
   "version": "3.7.3"
  }
 },
 "nbformat": 4,
 "nbformat_minor": 4
}
